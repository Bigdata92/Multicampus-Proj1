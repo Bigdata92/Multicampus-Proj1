{
 "cells": [
  {
   "cell_type": "markdown",
   "id": "8244f901",
   "metadata": {
    "papermill": {
     "duration": 0.018608,
     "end_time": "2021-10-21T21:15:41.118883",
     "exception": false,
     "start_time": "2021-10-21T21:15:41.100275",
     "status": "completed"
    },
    "tags": []
   },
   "source": [
    "# Pretrained Image Model to Predict Pet Popularity"
   ]
  },
  {
   "cell_type": "markdown",
   "id": "ecd83bf7",
   "metadata": {
    "papermill": {
     "duration": 0.017455,
     "end_time": "2021-10-21T21:15:41.154253",
     "exception": false,
     "start_time": "2021-10-21T21:15:41.136798",
     "status": "completed"
    },
    "tags": []
   },
   "source": [
    "- Pretrained **EfficientNetB0 model from Keras applications** 는 모두 224 x 224 로 size 맞춘 이미지에 features extract하기 위해서 사용되었습니다. \n",
    "- Popularity score는 images 만을 기준으로 측정했습니다. \n",
    "- 따라서 위 코드에서는 정형 데이터(Photo Metadata)는 고려하지 않았습니다. \n",
    "- image quality가 Popularity 측정에 영향을 끼치기 때문에, 오직 좌우 반전 만 데이터 증강(data augmentation)에 사용되었습니다."
   ]
  },
  {
   "cell_type": "code",
   "execution_count": 1,
   "id": "1ec0114b",
   "metadata": {
    "_cell_guid": "b1076dfc-b9ad-4769-8c92-a6c4dae69d19",
    "_uuid": "8f2839f25d086af736a60e9eeb907d3b93b6e0e5",
    "execution": {
     "iopub.execute_input": "2021-10-21T21:15:41.268614Z",
     "iopub.status.busy": "2021-10-21T21:15:41.268009Z",
     "iopub.status.idle": "2021-10-21T21:15:46.262629Z",
     "shell.execute_reply": "2021-10-21T21:15:46.263319Z",
     "shell.execute_reply.started": "2021-10-21T18:51:10.918189Z"
    },
    "papermill": {
     "duration": 5.092007,
     "end_time": "2021-10-21T21:15:46.263645",
     "exception": false,
     "start_time": "2021-10-21T21:15:41.171638",
     "status": "completed"
    },
    "tags": []
   },
   "outputs": [
    {
     "name": "stderr",
     "output_type": "stream",
     "text": [
      "2021-10-21 21:15:41.780413: I tensorflow/stream_executor/platform/default/dso_loader.cc:49] Successfully opened dynamic library libcudart.so.11.0\n"
     ]
    }
   ],
   "source": [
    "# library\n",
    "import os\n",
    "import random\n",
    "\n",
    "import pandas as pd\n",
    "import numpy as np\n",
    "\n",
    "import tensorflow as tf\n",
    "from sklearn.model_selection import train_test_split\n",
    "\n",
    "import matplotlib.pyplot as plt\n",
    "import seaborn as sns"
   ]
  },
  {
   "cell_type": "code",
   "execution_count": 2,
   "id": "a033d20b",
   "metadata": {
    "execution": {
     "iopub.execute_input": "2021-10-21T21:15:46.332906Z",
     "iopub.status.busy": "2021-10-21T21:15:46.332041Z",
     "iopub.status.idle": "2021-10-21T21:15:46.334205Z",
     "shell.execute_reply": "2021-10-21T21:15:46.334685Z",
     "shell.execute_reply.started": "2021-10-21T18:51:16.227469Z"
    },
    "papermill": {
     "duration": 0.040598,
     "end_time": "2021-10-21T21:15:46.334810",
     "exception": false,
     "start_time": "2021-10-21T21:15:46.294212",
     "status": "completed"
    },
    "tags": []
   },
   "outputs": [],
   "source": [
    "# 정형 데이터 파일경로\n",
    "TRAIN_DATA_PATH = '../input/petfinder-pawpularity-score/train.csv'\n",
    "TEST_DATA_PATH = '../input/petfinder-pawpularity-score/test.csv'\n",
    "\n",
    "# 이미지 데이터 폴더\n",
    "TRAIN_DIRECTORY = '../input/petfinder-pawpularity-score/train'\n",
    "TEST_DIRECTORY = '../input/petfinder-pawpularity-score/test'"
   ]
  },
  {
   "cell_type": "code",
   "execution_count": 3,
   "id": "2e808642",
   "metadata": {
    "execution": {
     "iopub.execute_input": "2021-10-21T21:15:46.380469Z",
     "iopub.status.busy": "2021-10-21T21:15:46.378912Z",
     "iopub.status.idle": "2021-10-21T21:15:46.381089Z",
     "shell.execute_reply": "2021-10-21T21:15:46.381490Z",
     "shell.execute_reply.started": "2021-10-21T18:51:16.234266Z"
    },
    "papermill": {
     "duration": 0.023772,
     "end_time": "2021-10-21T21:15:46.381609",
     "exception": false,
     "start_time": "2021-10-21T21:15:46.357837",
     "status": "completed"
    },
    "tags": []
   },
   "outputs": [],
   "source": [
    "# 정형 데이터 처리를 위한 parameters\n",
    "TARGET_NAME = 'Pawpularity'\n",
    "VAL_SIZE = 0.15\n",
    "SEED = 5"
   ]
  },
  {
   "cell_type": "code",
   "execution_count": 4,
   "id": "c058dd50",
   "metadata": {
    "execution": {
     "iopub.execute_input": "2021-10-21T21:15:46.423764Z",
     "iopub.status.busy": "2021-10-21T21:15:46.422210Z",
     "iopub.status.idle": "2021-10-21T21:15:46.424376Z",
     "shell.execute_reply": "2021-10-21T21:15:46.424756Z",
     "shell.execute_reply.started": "2021-10-21T18:51:16.246988Z"
    },
    "papermill": {
     "duration": 0.024532,
     "end_time": "2021-10-21T21:15:46.424896",
     "exception": false,
     "start_time": "2021-10-21T21:15:46.400364",
     "status": "completed"
    },
    "tags": []
   },
   "outputs": [],
   "source": [
    "# TensorFlow settings and training parameters\n",
    "AUTOTUNE = tf.data.experimental.AUTOTUNE\n",
    "IMG_SIZE = 224\n",
    "BATCH_SIZE = 64\n",
    "DROPOUT_RATE = 0.2\n",
    "LEARNING_RATE = 1e-3\n",
    "DECAY_STEPS = 100\n",
    "DECAY_RATE = 0.96\n",
    "EPOCHS = 500\n",
    "PATIENCE = 5"
   ]
  },
  {
   "cell_type": "code",
   "execution_count": 5,
   "id": "334a4c75",
   "metadata": {
    "execution": {
     "iopub.execute_input": "2021-10-21T21:15:46.463796Z",
     "iopub.status.busy": "2021-10-21T21:15:46.463050Z",
     "iopub.status.idle": "2021-10-21T21:15:46.465632Z",
     "shell.execute_reply": "2021-10-21T21:15:46.465239Z",
     "shell.execute_reply.started": "2021-10-21T18:51:16.255257Z"
    },
    "papermill": {
     "duration": 0.023219,
     "end_time": "2021-10-21T21:15:46.465733",
     "exception": false,
     "start_time": "2021-10-21T21:15:46.442514",
     "status": "completed"
    },
    "tags": []
   },
   "outputs": [],
   "source": [
    "# Pretrained image classification model EfficientNetB0이 사용되었고\n",
    "# tf.keras.applications로 부터 global average pooling이 final layer에 사용되었습니다.\n",
    "# model is loaded 캐글 공공데이터셋 https://www.kaggle.com/ekaterinadranitsyna/keras-applications-models \n",
    "IMG_MODEL = '../input/keras-applications-models/EfficientNetB0.h5'"
   ]
  },
  {
   "cell_type": "markdown",
   "id": "f0e8faf5",
   "metadata": {
    "papermill": {
     "duration": 0.017571,
     "end_time": "2021-10-21T21:15:46.500995",
     "exception": false,
     "start_time": "2021-10-21T21:15:46.483424",
     "status": "completed"
    },
    "tags": []
   },
   "source": [
    "## Functions"
   ]
  },
  {
   "cell_type": "code",
   "execution_count": 6,
   "id": "9ccf5a69",
   "metadata": {
    "execution": {
     "iopub.execute_input": "2021-10-21T21:15:46.553246Z",
     "iopub.status.busy": "2021-10-21T21:15:46.552472Z",
     "iopub.status.idle": "2021-10-21T21:15:46.554534Z",
     "shell.execute_reply": "2021-10-21T21:15:46.554906Z",
     "shell.execute_reply.started": "2021-10-21T18:51:16.263726Z"
    },
    "papermill": {
     "duration": 0.03607,
     "end_time": "2021-10-21T21:15:46.555022",
     "exception": false,
     "start_time": "2021-10-21T21:15:46.518952",
     "status": "completed"
    },
    "tags": []
   },
   "outputs": [],
   "source": [
    "def set_seed(seed=42):\n",
    "    # 코드 재생산성을 위해 seed 고정\n",
    "    \n",
    "    np.random.seed(seed)\n",
    "    random.seed(seed)\n",
    "    tf.random.set_seed(seed)\n",
    "    os.environ['PYTHONHASHSEED'] = str(seed)\n",
    "    os.environ['TF_DETERMINISTIC_OPS'] = '1'\n",
    "\n",
    "\n",
    "def set_display():\n",
    "    \n",
    "    # Plots display settings\n",
    "    plt.style.use('fivethirtyeight')\n",
    "    plt.rcParams['figure.figsize'] = 12, 8\n",
    "    plt.rcParams.update({'font.size': 14})\n",
    "    \n",
    "    # DataFrame display settings\n",
    "    pd.set_option('display.max_columns', None)\n",
    "    pd.set_option('display.max_rows', None)\n",
    "    pd.options.display.float_format = '{:.4f}'.format\n",
    "\n",
    "\n",
    "def id_to_path(img_id: str, dir: str):\n",
    "    # 이미지 파일 경로 return \n",
    "\n",
    "    return os.path.join(dir, f'{img_id}.jpg')\n",
    "\n",
    "\n",
    "@tf.function\n",
    "def get_image(path: str) -> tf.Tensor:\n",
    "    # 이미지 load 하고 전처리 후 Tensor 형태로 전처리 된 이미지 return 함\n",
    "\n",
    "    image = tf.image.decode_jpeg(tf.io.read_file(path), channels=3)\n",
    "    image = tf.cast(tf.image.resize_with_pad(image, IMG_SIZE, IMG_SIZE), dtype=tf.int32)\n",
    "    return tf.keras.applications.efficientnet.preprocess_input(image)\n",
    "\n",
    "\n",
    "@tf.function\n",
    "def process_dataset(path: str, label: int) -> tuple:\n",
    "    # return 전처리 된 이미지(resize, 좌우반전), numeric label \n",
    "    \n",
    "    return get_image(path), label\n",
    "\n",
    "\n",
    "@tf.function\n",
    "def get_dataset(x, y=None) -> tf.data.Dataset:\n",
    "    \"\"\"Function creates batched optimized dataset for the model\n",
    "    out of an array of file paths and (optionally) class labels.\n",
    "    :param x: Input data for the model (array of file paths)\n",
    "    :param y: Target values for the model (array of class indexes)\n",
    "    :return TensorFlow Dataset object\n",
    "    \"\"\"\n",
    "    if y is not None:\n",
    "        ds = tf.data.Dataset.from_tensor_slices((x, y))\n",
    "        return ds.map(process_dataset, num_parallel_calls=AUTOTUNE) \\\n",
    "            .batch(BATCH_SIZE).prefetch(buffer_size=AUTOTUNE)\n",
    "    else:\n",
    "        ds = tf.data.Dataset.from_tensor_slices(x)\n",
    "        return ds.map(get_image, num_parallel_calls=AUTOTUNE) \\\n",
    "            .batch(BATCH_SIZE).prefetch(buffer_size=AUTOTUNE)\n",
    "\n",
    "\n",
    "def plot_history(hist):\n",
    "    # training and validation 행렬을 차트 그리는 함수\n",
    "\n",
    "    # Losses and metrics\n",
    "    loss = hist.history['loss']\n",
    "    val_loss = hist.history['val_loss']\n",
    "    rmse = hist.history['root_mean_squared_error']\n",
    "    val_rmse = hist.history['val_root_mean_squared_error']\n",
    "\n",
    "    # Epochs to plot along x axis\n",
    "    x_axis = range(1, len(loss) + 1)\n",
    "\n",
    "    fig, (ax1, ax2) = plt.subplots(nrows=2, ncols=1, sharex=True)\n",
    "\n",
    "    ax1.plot(x_axis, loss, 'bo', label='Training')\n",
    "    ax1.plot(x_axis, val_loss, 'ro', label='Validation')\n",
    "    ax1.set_title('MSE Loss')\n",
    "    ax1.legend()\n",
    "\n",
    "    ax2.plot(x_axis, rmse, 'bo', label='Training')\n",
    "    ax2.plot(x_axis, val_rmse, 'ro', label='Validation')\n",
    "    ax2.set_title('Root Mean Squared Error')\n",
    "    ax2.set_xlabel('Epochs')\n",
    "    ax2.legend()\n",
    "\n",
    "    plt.tight_layout()\n",
    "    plt.show()"
   ]
  },
  {
   "cell_type": "markdown",
   "id": "f70b7301",
   "metadata": {
    "papermill": {
     "duration": 0.017404,
     "end_time": "2021-10-21T21:15:46.590328",
     "exception": false,
     "start_time": "2021-10-21T21:15:46.572924",
     "status": "completed"
    },
    "tags": []
   },
   "source": [
    "## Data Processing"
   ]
  },
  {
   "cell_type": "code",
   "execution_count": 7,
   "id": "621e8baa",
   "metadata": {
    "execution": {
     "iopub.execute_input": "2021-10-21T21:15:46.630103Z",
     "iopub.status.busy": "2021-10-21T21:15:46.629472Z",
     "iopub.status.idle": "2021-10-21T21:15:46.632077Z",
     "shell.execute_reply": "2021-10-21T21:15:46.631653Z",
     "shell.execute_reply.started": "2021-10-21T18:51:16.285257Z"
    },
    "papermill": {
     "duration": 0.024021,
     "end_time": "2021-10-21T21:15:46.632193",
     "exception": false,
     "start_time": "2021-10-21T21:15:46.608172",
     "status": "completed"
    },
    "tags": []
   },
   "outputs": [],
   "source": [
    "set_seed(SEED)\n",
    "set_display()"
   ]
  },
  {
   "cell_type": "code",
   "execution_count": 8,
   "id": "286e79d0",
   "metadata": {
    "execution": {
     "iopub.execute_input": "2021-10-21T21:15:46.672957Z",
     "iopub.status.busy": "2021-10-21T21:15:46.672271Z",
     "iopub.status.idle": "2021-10-21T21:15:46.727922Z",
     "shell.execute_reply": "2021-10-21T21:15:46.728321Z",
     "shell.execute_reply.started": "2021-10-21T18:51:16.296262Z"
    },
    "papermill": {
     "duration": 0.078366,
     "end_time": "2021-10-21T21:15:46.728448",
     "exception": false,
     "start_time": "2021-10-21T21:15:46.650082",
     "status": "completed"
    },
    "tags": []
   },
   "outputs": [
    {
     "name": "stdout",
     "output_type": "stream",
     "text": [
      "Train data shape: (9912, 14)\n"
     ]
    },
    {
     "data": {
      "text/html": [
       "<div>\n",
       "<style scoped>\n",
       "    .dataframe tbody tr th:only-of-type {\n",
       "        vertical-align: middle;\n",
       "    }\n",
       "\n",
       "    .dataframe tbody tr th {\n",
       "        vertical-align: top;\n",
       "    }\n",
       "\n",
       "    .dataframe thead th {\n",
       "        text-align: right;\n",
       "    }\n",
       "</style>\n",
       "<table border=\"1\" class=\"dataframe\">\n",
       "  <thead>\n",
       "    <tr style=\"text-align: right;\">\n",
       "      <th></th>\n",
       "      <th>Id</th>\n",
       "      <th>Subject Focus</th>\n",
       "      <th>Eyes</th>\n",
       "      <th>Face</th>\n",
       "      <th>Near</th>\n",
       "      <th>Action</th>\n",
       "      <th>Accessory</th>\n",
       "      <th>Group</th>\n",
       "      <th>Collage</th>\n",
       "      <th>Human</th>\n",
       "      <th>Occlusion</th>\n",
       "      <th>Info</th>\n",
       "      <th>Blur</th>\n",
       "      <th>Pawpularity</th>\n",
       "    </tr>\n",
       "  </thead>\n",
       "  <tbody>\n",
       "    <tr>\n",
       "      <th>0</th>\n",
       "      <td>0007de18844b0dbbb5e1f607da0606e0</td>\n",
       "      <td>0</td>\n",
       "      <td>1</td>\n",
       "      <td>1</td>\n",
       "      <td>1</td>\n",
       "      <td>0</td>\n",
       "      <td>0</td>\n",
       "      <td>1</td>\n",
       "      <td>0</td>\n",
       "      <td>0</td>\n",
       "      <td>0</td>\n",
       "      <td>0</td>\n",
       "      <td>0</td>\n",
       "      <td>63</td>\n",
       "    </tr>\n",
       "    <tr>\n",
       "      <th>1</th>\n",
       "      <td>0009c66b9439883ba2750fb825e1d7db</td>\n",
       "      <td>0</td>\n",
       "      <td>1</td>\n",
       "      <td>1</td>\n",
       "      <td>0</td>\n",
       "      <td>0</td>\n",
       "      <td>0</td>\n",
       "      <td>0</td>\n",
       "      <td>0</td>\n",
       "      <td>0</td>\n",
       "      <td>0</td>\n",
       "      <td>0</td>\n",
       "      <td>0</td>\n",
       "      <td>42</td>\n",
       "    </tr>\n",
       "    <tr>\n",
       "      <th>2</th>\n",
       "      <td>0013fd999caf9a3efe1352ca1b0d937e</td>\n",
       "      <td>0</td>\n",
       "      <td>1</td>\n",
       "      <td>1</td>\n",
       "      <td>1</td>\n",
       "      <td>0</td>\n",
       "      <td>0</td>\n",
       "      <td>0</td>\n",
       "      <td>0</td>\n",
       "      <td>1</td>\n",
       "      <td>1</td>\n",
       "      <td>0</td>\n",
       "      <td>0</td>\n",
       "      <td>28</td>\n",
       "    </tr>\n",
       "    <tr>\n",
       "      <th>3</th>\n",
       "      <td>0018df346ac9c1d8413cfcc888ca8246</td>\n",
       "      <td>0</td>\n",
       "      <td>1</td>\n",
       "      <td>1</td>\n",
       "      <td>1</td>\n",
       "      <td>0</td>\n",
       "      <td>0</td>\n",
       "      <td>0</td>\n",
       "      <td>0</td>\n",
       "      <td>0</td>\n",
       "      <td>0</td>\n",
       "      <td>0</td>\n",
       "      <td>0</td>\n",
       "      <td>15</td>\n",
       "    </tr>\n",
       "    <tr>\n",
       "      <th>4</th>\n",
       "      <td>001dc955e10590d3ca4673f034feeef2</td>\n",
       "      <td>0</td>\n",
       "      <td>0</td>\n",
       "      <td>0</td>\n",
       "      <td>1</td>\n",
       "      <td>0</td>\n",
       "      <td>0</td>\n",
       "      <td>1</td>\n",
       "      <td>0</td>\n",
       "      <td>0</td>\n",
       "      <td>0</td>\n",
       "      <td>0</td>\n",
       "      <td>0</td>\n",
       "      <td>72</td>\n",
       "    </tr>\n",
       "  </tbody>\n",
       "</table>\n",
       "</div>"
      ],
      "text/plain": [
       "                                 Id  Subject Focus  Eyes  Face  Near  Action  \\\n",
       "0  0007de18844b0dbbb5e1f607da0606e0              0     1     1     1       0   \n",
       "1  0009c66b9439883ba2750fb825e1d7db              0     1     1     0       0   \n",
       "2  0013fd999caf9a3efe1352ca1b0d937e              0     1     1     1       0   \n",
       "3  0018df346ac9c1d8413cfcc888ca8246              0     1     1     1       0   \n",
       "4  001dc955e10590d3ca4673f034feeef2              0     0     0     1       0   \n",
       "\n",
       "   Accessory  Group  Collage  Human  Occlusion  Info  Blur  Pawpularity  \n",
       "0          0      1        0      0          0     0     0           63  \n",
       "1          0      0        0      0          0     0     0           42  \n",
       "2          0      0        0      1          1     0     0           28  \n",
       "3          0      0        0      0          0     0     0           15  \n",
       "4          0      1        0      0          0     0     0           72  "
      ]
     },
     "execution_count": 8,
     "metadata": {},
     "output_type": "execute_result"
    }
   ],
   "source": [
    "# Train data set\n",
    "data_train = pd.read_csv(TRAIN_DATA_PATH)\n",
    "print(f'Train data shape: {data_train.shape}')\n",
    "data_train.head()"
   ]
  },
  {
   "cell_type": "code",
   "execution_count": 9,
   "id": "49c10938",
   "metadata": {
    "execution": {
     "iopub.execute_input": "2021-10-21T21:15:46.769875Z",
     "iopub.status.busy": "2021-10-21T21:15:46.769316Z",
     "iopub.status.idle": "2021-10-21T21:15:46.789509Z",
     "shell.execute_reply": "2021-10-21T21:15:46.788873Z",
     "shell.execute_reply.started": "2021-10-21T18:51:16.355716Z"
    },
    "papermill": {
     "duration": 0.042365,
     "end_time": "2021-10-21T21:15:46.789616",
     "exception": false,
     "start_time": "2021-10-21T21:15:46.747251",
     "status": "completed"
    },
    "tags": []
   },
   "outputs": [
    {
     "name": "stdout",
     "output_type": "stream",
     "text": [
      "Test data shape: (8, 13)\n"
     ]
    },
    {
     "data": {
      "text/html": [
       "<div>\n",
       "<style scoped>\n",
       "    .dataframe tbody tr th:only-of-type {\n",
       "        vertical-align: middle;\n",
       "    }\n",
       "\n",
       "    .dataframe tbody tr th {\n",
       "        vertical-align: top;\n",
       "    }\n",
       "\n",
       "    .dataframe thead th {\n",
       "        text-align: right;\n",
       "    }\n",
       "</style>\n",
       "<table border=\"1\" class=\"dataframe\">\n",
       "  <thead>\n",
       "    <tr style=\"text-align: right;\">\n",
       "      <th></th>\n",
       "      <th>Id</th>\n",
       "      <th>Subject Focus</th>\n",
       "      <th>Eyes</th>\n",
       "      <th>Face</th>\n",
       "      <th>Near</th>\n",
       "      <th>Action</th>\n",
       "      <th>Accessory</th>\n",
       "      <th>Group</th>\n",
       "      <th>Collage</th>\n",
       "      <th>Human</th>\n",
       "      <th>Occlusion</th>\n",
       "      <th>Info</th>\n",
       "      <th>Blur</th>\n",
       "    </tr>\n",
       "  </thead>\n",
       "  <tbody>\n",
       "    <tr>\n",
       "      <th>0</th>\n",
       "      <td>4128bae22183829d2b5fea10effdb0c3</td>\n",
       "      <td>1</td>\n",
       "      <td>0</td>\n",
       "      <td>1</td>\n",
       "      <td>0</td>\n",
       "      <td>0</td>\n",
       "      <td>1</td>\n",
       "      <td>1</td>\n",
       "      <td>0</td>\n",
       "      <td>0</td>\n",
       "      <td>1</td>\n",
       "      <td>0</td>\n",
       "      <td>1</td>\n",
       "    </tr>\n",
       "    <tr>\n",
       "      <th>1</th>\n",
       "      <td>43a2262d7738e3d420d453815151079e</td>\n",
       "      <td>0</td>\n",
       "      <td>1</td>\n",
       "      <td>0</td>\n",
       "      <td>0</td>\n",
       "      <td>0</td>\n",
       "      <td>0</td>\n",
       "      <td>1</td>\n",
       "      <td>1</td>\n",
       "      <td>0</td>\n",
       "      <td>0</td>\n",
       "      <td>0</td>\n",
       "      <td>0</td>\n",
       "    </tr>\n",
       "    <tr>\n",
       "      <th>2</th>\n",
       "      <td>4e429cead1848a298432a0acad014c9d</td>\n",
       "      <td>0</td>\n",
       "      <td>0</td>\n",
       "      <td>0</td>\n",
       "      <td>1</td>\n",
       "      <td>0</td>\n",
       "      <td>1</td>\n",
       "      <td>1</td>\n",
       "      <td>1</td>\n",
       "      <td>0</td>\n",
       "      <td>1</td>\n",
       "      <td>1</td>\n",
       "      <td>1</td>\n",
       "    </tr>\n",
       "    <tr>\n",
       "      <th>3</th>\n",
       "      <td>80bc3ccafcc51b66303c2c263aa38486</td>\n",
       "      <td>1</td>\n",
       "      <td>0</td>\n",
       "      <td>1</td>\n",
       "      <td>0</td>\n",
       "      <td>0</td>\n",
       "      <td>0</td>\n",
       "      <td>0</td>\n",
       "      <td>0</td>\n",
       "      <td>0</td>\n",
       "      <td>0</td>\n",
       "      <td>1</td>\n",
       "      <td>0</td>\n",
       "    </tr>\n",
       "    <tr>\n",
       "      <th>4</th>\n",
       "      <td>8f49844c382931444e68dffbe20228f4</td>\n",
       "      <td>1</td>\n",
       "      <td>1</td>\n",
       "      <td>1</td>\n",
       "      <td>0</td>\n",
       "      <td>1</td>\n",
       "      <td>1</td>\n",
       "      <td>0</td>\n",
       "      <td>1</td>\n",
       "      <td>0</td>\n",
       "      <td>1</td>\n",
       "      <td>1</td>\n",
       "      <td>0</td>\n",
       "    </tr>\n",
       "  </tbody>\n",
       "</table>\n",
       "</div>"
      ],
      "text/plain": [
       "                                 Id  Subject Focus  Eyes  Face  Near  Action  \\\n",
       "0  4128bae22183829d2b5fea10effdb0c3              1     0     1     0       0   \n",
       "1  43a2262d7738e3d420d453815151079e              0     1     0     0       0   \n",
       "2  4e429cead1848a298432a0acad014c9d              0     0     0     1       0   \n",
       "3  80bc3ccafcc51b66303c2c263aa38486              1     0     1     0       0   \n",
       "4  8f49844c382931444e68dffbe20228f4              1     1     1     0       1   \n",
       "\n",
       "   Accessory  Group  Collage  Human  Occlusion  Info  Blur  \n",
       "0          1      1        0      0          1     0     1  \n",
       "1          0      1        1      0          0     0     0  \n",
       "2          1      1        1      0          1     1     1  \n",
       "3          0      0        0      0          0     1     0  \n",
       "4          1      0        1      0          1     1     0  "
      ]
     },
     "execution_count": 9,
     "metadata": {},
     "output_type": "execute_result"
    }
   ],
   "source": [
    "# Test data set\n",
    "data_test = pd.read_csv(TEST_DATA_PATH)\n",
    "print(f'Test data shape: {data_test.shape}')\n",
    "data_test.head()"
   ]
  },
  {
   "cell_type": "code",
   "execution_count": 10,
   "id": "230568f3",
   "metadata": {
    "execution": {
     "iopub.execute_input": "2021-10-21T21:15:46.836456Z",
     "iopub.status.busy": "2021-10-21T21:15:46.835686Z",
     "iopub.status.idle": "2021-10-21T21:15:46.863972Z",
     "shell.execute_reply": "2021-10-21T21:15:46.863515Z",
     "shell.execute_reply.started": "2021-10-21T18:51:16.380085Z"
    },
    "papermill": {
     "duration": 0.054937,
     "end_time": "2021-10-21T21:15:46.864081",
     "exception": false,
     "start_time": "2021-10-21T21:15:46.809144",
     "status": "completed"
    },
    "tags": []
   },
   "outputs": [],
   "source": [
    "# train and test images 경로 재설정\n",
    "data_train['path'] = data_train['Id'].apply(\n",
    "    lambda x: id_to_path(x, TRAIN_DIRECTORY))\n",
    "data_test['path'] = data_test['Id'].apply(\n",
    "    lambda x: id_to_path(x, TEST_DIRECTORY))\n",
    "\n",
    "# VAL_SIZE = 0.15 만큼 train, valid 분리\n",
    "train_subset, valid_subset = train_test_split(\n",
    "    data_train[['path', TARGET_NAME]],\n",
    "    test_size=VAL_SIZE\n",
    "    , shuffle=True, random_state=SEED\n",
    ")"
   ]
  },
  {
   "cell_type": "code",
   "execution_count": 11,
   "id": "16b9f3f1",
   "metadata": {
    "execution": {
     "iopub.execute_input": "2021-10-21T21:15:46.908906Z",
     "iopub.status.busy": "2021-10-21T21:15:46.908225Z",
     "iopub.status.idle": "2021-10-21T21:15:48.928518Z",
     "shell.execute_reply": "2021-10-21T21:15:48.927528Z",
     "shell.execute_reply.started": "2021-10-21T18:51:16.416102Z"
    },
    "papermill": {
     "duration": 2.045046,
     "end_time": "2021-10-21T21:15:48.928644",
     "exception": false,
     "start_time": "2021-10-21T21:15:46.883598",
     "status": "completed"
    },
    "tags": []
   },
   "outputs": [
    {
     "name": "stderr",
     "output_type": "stream",
     "text": [
      "2021-10-21 21:15:46.913983: I tensorflow/compiler/jit/xla_cpu_device.cc:41] Not creating XLA devices, tf_xla_enable_xla_devices not set\n",
      "2021-10-21 21:15:46.917102: I tensorflow/stream_executor/platform/default/dso_loader.cc:49] Successfully opened dynamic library libcuda.so.1\n",
      "2021-10-21 21:15:46.953939: I tensorflow/stream_executor/cuda/cuda_gpu_executor.cc:941] successful NUMA node read from SysFS had negative value (-1), but there must be at least one NUMA node, so returning NUMA node zero\n",
      "2021-10-21 21:15:46.954598: I tensorflow/core/common_runtime/gpu/gpu_device.cc:1720] Found device 0 with properties: \n",
      "pciBusID: 0000:00:04.0 name: Tesla P100-PCIE-16GB computeCapability: 6.0\n",
      "coreClock: 1.3285GHz coreCount: 56 deviceMemorySize: 15.90GiB deviceMemoryBandwidth: 681.88GiB/s\n",
      "2021-10-21 21:15:46.954658: I tensorflow/stream_executor/platform/default/dso_loader.cc:49] Successfully opened dynamic library libcudart.so.11.0\n",
      "2021-10-21 21:15:46.979811: I tensorflow/stream_executor/platform/default/dso_loader.cc:49] Successfully opened dynamic library libcublas.so.11\n",
      "2021-10-21 21:15:46.979930: I tensorflow/stream_executor/platform/default/dso_loader.cc:49] Successfully opened dynamic library libcublasLt.so.11\n",
      "2021-10-21 21:15:46.994947: I tensorflow/stream_executor/platform/default/dso_loader.cc:49] Successfully opened dynamic library libcufft.so.10\n",
      "2021-10-21 21:15:47.004361: I tensorflow/stream_executor/platform/default/dso_loader.cc:49] Successfully opened dynamic library libcurand.so.10\n",
      "2021-10-21 21:15:47.030322: I tensorflow/stream_executor/platform/default/dso_loader.cc:49] Successfully opened dynamic library libcusolver.so.10\n",
      "2021-10-21 21:15:47.039338: I tensorflow/stream_executor/platform/default/dso_loader.cc:49] Successfully opened dynamic library libcusparse.so.11\n",
      "2021-10-21 21:15:47.043006: I tensorflow/stream_executor/platform/default/dso_loader.cc:49] Successfully opened dynamic library libcudnn.so.8\n",
      "2021-10-21 21:15:47.043231: I tensorflow/stream_executor/cuda/cuda_gpu_executor.cc:941] successful NUMA node read from SysFS had negative value (-1), but there must be at least one NUMA node, so returning NUMA node zero\n",
      "2021-10-21 21:15:47.044216: I tensorflow/stream_executor/cuda/cuda_gpu_executor.cc:941] successful NUMA node read from SysFS had negative value (-1), but there must be at least one NUMA node, so returning NUMA node zero\n",
      "2021-10-21 21:15:47.045706: I tensorflow/core/common_runtime/gpu/gpu_device.cc:1862] Adding visible gpu devices: 0\n",
      "2021-10-21 21:15:47.046897: I tensorflow/core/platform/cpu_feature_guard.cc:142] This TensorFlow binary is optimized with oneAPI Deep Neural Network Library (oneDNN) to use the following CPU instructions in performance-critical operations:  AVX2 AVX512F FMA\n",
      "To enable them in other operations, rebuild TensorFlow with the appropriate compiler flags.\n",
      "2021-10-21 21:15:47.047184: I tensorflow/compiler/jit/xla_gpu_device.cc:99] Not creating XLA devices, tf_xla_enable_xla_devices not set\n",
      "2021-10-21 21:15:47.047386: I tensorflow/stream_executor/cuda/cuda_gpu_executor.cc:941] successful NUMA node read from SysFS had negative value (-1), but there must be at least one NUMA node, so returning NUMA node zero\n",
      "2021-10-21 21:15:47.048054: I tensorflow/core/common_runtime/gpu/gpu_device.cc:1720] Found device 0 with properties: \n",
      "pciBusID: 0000:00:04.0 name: Tesla P100-PCIE-16GB computeCapability: 6.0\n",
      "coreClock: 1.3285GHz coreCount: 56 deviceMemorySize: 15.90GiB deviceMemoryBandwidth: 681.88GiB/s\n",
      "2021-10-21 21:15:47.048105: I tensorflow/stream_executor/platform/default/dso_loader.cc:49] Successfully opened dynamic library libcudart.so.11.0\n",
      "2021-10-21 21:15:47.048142: I tensorflow/stream_executor/platform/default/dso_loader.cc:49] Successfully opened dynamic library libcublas.so.11\n",
      "2021-10-21 21:15:47.048162: I tensorflow/stream_executor/platform/default/dso_loader.cc:49] Successfully opened dynamic library libcublasLt.so.11\n",
      "2021-10-21 21:15:47.048179: I tensorflow/stream_executor/platform/default/dso_loader.cc:49] Successfully opened dynamic library libcufft.so.10\n",
      "2021-10-21 21:15:47.048196: I tensorflow/stream_executor/platform/default/dso_loader.cc:49] Successfully opened dynamic library libcurand.so.10\n",
      "2021-10-21 21:15:47.048213: I tensorflow/stream_executor/platform/default/dso_loader.cc:49] Successfully opened dynamic library libcusolver.so.10\n",
      "2021-10-21 21:15:47.048231: I tensorflow/stream_executor/platform/default/dso_loader.cc:49] Successfully opened dynamic library libcusparse.so.11\n",
      "2021-10-21 21:15:47.048248: I tensorflow/stream_executor/platform/default/dso_loader.cc:49] Successfully opened dynamic library libcudnn.so.8\n",
      "2021-10-21 21:15:47.048348: I tensorflow/stream_executor/cuda/cuda_gpu_executor.cc:941] successful NUMA node read from SysFS had negative value (-1), but there must be at least one NUMA node, so returning NUMA node zero\n",
      "2021-10-21 21:15:47.049033: I tensorflow/stream_executor/cuda/cuda_gpu_executor.cc:941] successful NUMA node read from SysFS had negative value (-1), but there must be at least one NUMA node, so returning NUMA node zero\n",
      "2021-10-21 21:15:47.049616: I tensorflow/core/common_runtime/gpu/gpu_device.cc:1862] Adding visible gpu devices: 0\n",
      "2021-10-21 21:15:47.050659: I tensorflow/stream_executor/platform/default/dso_loader.cc:49] Successfully opened dynamic library libcudart.so.11.0\n",
      "2021-10-21 21:15:48.474032: I tensorflow/core/common_runtime/gpu/gpu_device.cc:1261] Device interconnect StreamExecutor with strength 1 edge matrix:\n",
      "2021-10-21 21:15:48.474087: I tensorflow/core/common_runtime/gpu/gpu_device.cc:1267]      0 \n",
      "2021-10-21 21:15:48.474097: I tensorflow/core/common_runtime/gpu/gpu_device.cc:1280] 0:   N \n",
      "2021-10-21 21:15:48.476184: I tensorflow/stream_executor/cuda/cuda_gpu_executor.cc:941] successful NUMA node read from SysFS had negative value (-1), but there must be at least one NUMA node, so returning NUMA node zero\n",
      "2021-10-21 21:15:48.476914: I tensorflow/stream_executor/cuda/cuda_gpu_executor.cc:941] successful NUMA node read from SysFS had negative value (-1), but there must be at least one NUMA node, so returning NUMA node zero\n",
      "2021-10-21 21:15:48.477549: I tensorflow/stream_executor/cuda/cuda_gpu_executor.cc:941] successful NUMA node read from SysFS had negative value (-1), but there must be at least one NUMA node, so returning NUMA node zero\n",
      "2021-10-21 21:15:48.478129: I tensorflow/core/common_runtime/gpu/gpu_device.cc:1406] Created TensorFlow device (/job:localhost/replica:0/task:0/device:GPU:0 with 14957 MB memory) -> physical GPU (device: 0, name: Tesla P100-PCIE-16GB, pci bus id: 0000:00:04.0, compute capability: 6.0)\n",
      "2021-10-21 21:15:48.796704: I tensorflow/compiler/mlir/mlir_graph_optimization_pass.cc:116] None of the MLIR optimization passes are enabled (registered 2)\n",
      "2021-10-21 21:15:48.807059: I tensorflow/core/platform/profile_utils/cpu_utils.cc:112] CPU Frequency: 2000170000 Hz\n"
     ]
    }
   ],
   "source": [
    "# TensorFlow datasets 생성\n",
    "train_ds = get_dataset(x=train_subset['path'], y=train_subset[TARGET_NAME])\n",
    "valid_ds = get_dataset(x=valid_subset['path'], y=valid_subset[TARGET_NAME])\n",
    "test_ds = get_dataset(x=data_test['path'])"
   ]
  },
  {
   "cell_type": "code",
   "execution_count": 12,
   "id": "55bd7a46",
   "metadata": {
    "execution": {
     "iopub.execute_input": "2021-10-21T21:15:48.973036Z",
     "iopub.status.busy": "2021-10-21T21:15:48.972450Z",
     "iopub.status.idle": "2021-10-21T21:15:51.621290Z",
     "shell.execute_reply": "2021-10-21T21:15:51.622397Z",
     "shell.execute_reply.started": "2021-10-21T18:51:18.687765Z"
    },
    "papermill": {
     "duration": 2.673678,
     "end_time": "2021-10-21T21:15:51.622603",
     "exception": false,
     "start_time": "2021-10-21T21:15:48.948925",
     "status": "completed"
    },
    "tags": []
   },
   "outputs": [],
   "source": [
    "# Pretrained image classification model\n",
    "feature_model = tf.keras.models.load_model(IMG_MODEL)\n",
    "\n",
    "# Freeze weights in the original model(weights 고정)\n",
    "feature_model.trainable = False"
   ]
  },
  {
   "cell_type": "code",
   "execution_count": 13,
   "id": "d2bfcd99",
   "metadata": {
    "execution": {
     "iopub.execute_input": "2021-10-21T21:15:51.705259Z",
     "iopub.status.busy": "2021-10-21T21:15:51.704427Z",
     "iopub.status.idle": "2021-10-21T21:15:52.331298Z",
     "shell.execute_reply": "2021-10-21T21:15:52.330067Z",
     "shell.execute_reply.started": "2021-10-21T18:51:21.202559Z"
    },
    "papermill": {
     "duration": 0.673067,
     "end_time": "2021-10-21T21:15:52.331445",
     "exception": false,
     "start_time": "2021-10-21T21:15:51.658378",
     "status": "completed"
    },
    "tags": []
   },
   "outputs": [],
   "source": [
    "# 이 모델은 Input으로  224 x 224 사이즈의 이미지들을 받고, 랜덤하게 좌우반전을 적용한다.(only in the train mode)\n",
    "# pretrained passes feature extraction 모델을 통해 image arrays 보내고,\n",
    "# target score 얻기 위해서 batch normalization, dropout, activations(relu)를 적용한다. \n",
    "\n",
    "image_model = tf.keras.models.Sequential(\n",
    "    [\n",
    "        tf.keras.layers.Input(shape=(IMG_SIZE, IMG_SIZE, 3)),\n",
    "        tf.keras.layers.experimental.preprocessing.RandomFlip(mode='horizontal'),\n",
    "        feature_model,\n",
    "        tf.keras.layers.BatchNormalization(),\n",
    "        tf.keras.layers.Dropout(DROPOUT_RATE, name='top_dropout'),\n",
    "        tf.keras.layers.Dense(32, activation='relu'),\n",
    "        tf.keras.layers.Dense(1, name='score')\n",
    "    ]\n",
    ")"
   ]
  },
  {
   "cell_type": "code",
   "execution_count": 14,
   "id": "9647217d",
   "metadata": {
    "execution": {
     "iopub.execute_input": "2021-10-21T21:15:52.381496Z",
     "iopub.status.busy": "2021-10-21T21:15:52.379798Z",
     "iopub.status.idle": "2021-10-21T21:15:52.382221Z",
     "shell.execute_reply": "2021-10-21T21:15:52.382677Z",
     "shell.execute_reply.started": "2021-10-21T18:51:21.807536Z"
    },
    "papermill": {
     "duration": 0.027673,
     "end_time": "2021-10-21T21:15:52.382807",
     "exception": false,
     "start_time": "2021-10-21T21:15:52.355134",
     "status": "completed"
    },
    "tags": []
   },
   "outputs": [],
   "source": [
    "# 점차적으로 learning rate 감소\n",
    "lr_schedule = tf.keras.optimizers.schedules.ExponentialDecay(\n",
    "    initial_learning_rate=LEARNING_RATE,\n",
    "    decay_steps=DECAY_STEPS, decay_rate=DECAY_RATE,\n",
    "    staircase=True)"
   ]
  },
  {
   "cell_type": "code",
   "execution_count": 15,
   "id": "74cf7d03",
   "metadata": {
    "execution": {
     "iopub.execute_input": "2021-10-21T21:15:52.437177Z",
     "iopub.status.busy": "2021-10-21T21:15:52.436206Z",
     "iopub.status.idle": "2021-10-21T21:15:52.454764Z",
     "shell.execute_reply": "2021-10-21T21:15:52.454310Z",
     "shell.execute_reply.started": "2021-10-21T18:51:21.815572Z"
    },
    "papermill": {
     "duration": 0.051835,
     "end_time": "2021-10-21T21:15:52.454910",
     "exception": false,
     "start_time": "2021-10-21T21:15:52.403075",
     "status": "completed"
    },
    "tags": []
   },
   "outputs": [],
   "source": [
    "# Compile the model\n",
    "image_model.compile(optimizer=tf.keras.optimizers.Adam(learning_rate=lr_schedule),\n",
    "                    loss=tf.keras.losses.MeanSquaredError(),\n",
    "                    metrics=[tf.keras.metrics.RootMeanSquaredError()])"
   ]
  },
  {
   "cell_type": "code",
   "execution_count": 16,
   "id": "f170565a",
   "metadata": {
    "execution": {
     "iopub.execute_input": "2021-10-21T21:15:52.517439Z",
     "iopub.status.busy": "2021-10-21T21:15:52.509324Z",
     "iopub.status.idle": "2021-10-21T21:15:52.521911Z",
     "shell.execute_reply": "2021-10-21T21:15:52.522405Z",
     "shell.execute_reply.started": "2021-10-21T18:51:21.843040Z"
    },
    "papermill": {
     "duration": 0.04476,
     "end_time": "2021-10-21T21:15:52.522541",
     "exception": false,
     "start_time": "2021-10-21T21:15:52.477781",
     "status": "completed"
    },
    "tags": []
   },
   "outputs": [
    {
     "name": "stdout",
     "output_type": "stream",
     "text": [
      "Model: \"sequential\"\n",
      "_________________________________________________________________\n",
      "Layer (type)                 Output Shape              Param #   \n",
      "=================================================================\n",
      "random_flip (RandomFlip)     (None, 224, 224, 3)       0         \n",
      "_________________________________________________________________\n",
      "efficientnetb0 (Functional)  (None, 1280)              4049571   \n",
      "_________________________________________________________________\n",
      "batch_normalization (BatchNo (None, 1280)              5120      \n",
      "_________________________________________________________________\n",
      "top_dropout (Dropout)        (None, 1280)              0         \n",
      "_________________________________________________________________\n",
      "dense (Dense)                (None, 32)                40992     \n",
      "_________________________________________________________________\n",
      "score (Dense)                (None, 1)                 33        \n",
      "=================================================================\n",
      "Total params: 4,095,716\n",
      "Trainable params: 43,585\n",
      "Non-trainable params: 4,052,131\n",
      "_________________________________________________________________\n"
     ]
    }
   ],
   "source": [
    "image_model.summary()"
   ]
  },
  {
   "cell_type": "code",
   "execution_count": 17,
   "id": "8b8490ab",
   "metadata": {
    "execution": {
     "iopub.execute_input": "2021-10-21T21:15:52.572104Z",
     "iopub.status.busy": "2021-10-21T21:15:52.570298Z",
     "iopub.status.idle": "2021-10-21T21:15:52.572773Z",
     "shell.execute_reply": "2021-10-21T21:15:52.573258Z",
     "shell.execute_reply.started": "2021-10-21T18:51:21.866136Z"
    },
    "papermill": {
     "duration": 0.029036,
     "end_time": "2021-10-21T21:15:52.573393",
     "exception": false,
     "start_time": "2021-10-21T21:15:52.544357",
     "status": "completed"
    },
    "tags": []
   },
   "outputs": [],
   "source": [
    "# EarlyStopping 이용하여 validation loss 모니터링 하고, training 멈춤\n",
    "early_stop = tf.keras.callbacks.EarlyStopping(\n",
    "    monitor='val_loss', patience=PATIENCE, restore_best_weights=True)"
   ]
  },
  {
   "cell_type": "code",
   "execution_count": 18,
   "id": "3095ce9a",
   "metadata": {
    "execution": {
     "iopub.execute_input": "2021-10-21T21:15:52.622361Z",
     "iopub.status.busy": "2021-10-21T21:15:52.621783Z",
     "iopub.status.idle": "2021-10-21T21:23:17.841925Z",
     "shell.execute_reply": "2021-10-21T21:23:17.842590Z",
     "shell.execute_reply.started": "2021-10-21T18:51:21.872718Z"
    },
    "papermill": {
     "duration": 445.247359,
     "end_time": "2021-10-21T21:23:17.842808",
     "exception": false,
     "start_time": "2021-10-21T21:15:52.595449",
     "status": "completed"
    },
    "tags": []
   },
   "outputs": [
    {
     "name": "stdout",
     "output_type": "stream",
     "text": [
      "Epoch 1/500\n"
     ]
    },
    {
     "name": "stderr",
     "output_type": "stream",
     "text": [
      "2021-10-21 21:15:58.308652: I tensorflow/stream_executor/platform/default/dso_loader.cc:49] Successfully opened dynamic library libcublas.so.11\n",
      "2021-10-21 21:15:59.364124: I tensorflow/stream_executor/platform/default/dso_loader.cc:49] Successfully opened dynamic library libcublasLt.so.11\n",
      "2021-10-21 21:15:59.405037: I tensorflow/stream_executor/platform/default/dso_loader.cc:49] Successfully opened dynamic library libcudnn.so.8\n"
     ]
    },
    {
     "name": "stdout",
     "output_type": "stream",
     "text": [
      "132/132 [==============================] - 64s 393ms/step - loss: 1212.7984 - root_mean_squared_error: 34.4746 - val_loss: 647.9258 - val_root_mean_squared_error: 25.4544\n",
      "Epoch 2/500\n",
      "132/132 [==============================] - 35s 261ms/step - loss: 385.1966 - root_mean_squared_error: 19.6197 - val_loss: 428.6970 - val_root_mean_squared_error: 20.7050\n",
      "Epoch 3/500\n",
      "132/132 [==============================] - 34s 260ms/step - loss: 355.7977 - root_mean_squared_error: 18.8604 - val_loss: 374.4747 - val_root_mean_squared_error: 19.3513\n",
      "Epoch 4/500\n",
      "132/132 [==============================] - 35s 262ms/step - loss: 348.4124 - root_mean_squared_error: 18.6632 - val_loss: 366.5267 - val_root_mean_squared_error: 19.1449\n",
      "Epoch 5/500\n",
      "132/132 [==============================] - 35s 261ms/step - loss: 336.5780 - root_mean_squared_error: 18.3435 - val_loss: 364.3203 - val_root_mean_squared_error: 19.0872\n",
      "Epoch 6/500\n",
      "132/132 [==============================] - 34s 259ms/step - loss: 333.5586 - root_mean_squared_error: 18.2607 - val_loss: 362.6777 - val_root_mean_squared_error: 19.0441\n",
      "Epoch 7/500\n",
      "132/132 [==============================] - 34s 259ms/step - loss: 326.3175 - root_mean_squared_error: 18.0615 - val_loss: 361.6364 - val_root_mean_squared_error: 19.0167\n",
      "Epoch 8/500\n",
      "132/132 [==============================] - 35s 261ms/step - loss: 320.6790 - root_mean_squared_error: 17.9059 - val_loss: 362.8063 - val_root_mean_squared_error: 19.0475\n",
      "Epoch 9/500\n",
      "132/132 [==============================] - 34s 259ms/step - loss: 316.4920 - root_mean_squared_error: 17.7873 - val_loss: 364.1202 - val_root_mean_squared_error: 19.0819\n",
      "Epoch 10/500\n",
      "132/132 [==============================] - 34s 259ms/step - loss: 307.5517 - root_mean_squared_error: 17.5364 - val_loss: 362.8927 - val_root_mean_squared_error: 19.0497\n",
      "Epoch 11/500\n",
      "132/132 [==============================] - 34s 257ms/step - loss: 308.0782 - root_mean_squared_error: 17.5506 - val_loss: 364.2649 - val_root_mean_squared_error: 19.0857\n",
      "Epoch 12/500\n",
      "132/132 [==============================] - 34s 259ms/step - loss: 303.9514 - root_mean_squared_error: 17.4318 - val_loss: 366.1036 - val_root_mean_squared_error: 19.1338\n"
     ]
    }
   ],
   "source": [
    "history = image_model.fit(train_ds, validation_data=valid_ds,\n",
    "                          epochs=EPOCHS, callbacks=[early_stop],\n",
    "                          use_multiprocessing=True, workers=-1)"
   ]
  },
  {
   "cell_type": "code",
   "execution_count": 19,
   "id": "2858683c",
   "metadata": {
    "execution": {
     "iopub.execute_input": "2021-10-21T21:23:18.763235Z",
     "iopub.status.busy": "2021-10-21T21:23:18.762510Z",
     "iopub.status.idle": "2021-10-21T21:23:19.175941Z",
     "shell.execute_reply": "2021-10-21T21:23:19.176350Z",
     "shell.execute_reply.started": "2021-10-21T18:58:35.391375Z"
    },
    "papermill": {
     "duration": 0.896879,
     "end_time": "2021-10-21T21:23:19.176492",
     "exception": false,
     "start_time": "2021-10-21T21:23:18.279613",
     "status": "completed"
    },
    "tags": []
   },
   "outputs": [
    {
     "data": {
      "image/png": "[encoded data removed]",
      "text/plain": [
       "<Figure size 864x576 with 2 Axes>"
      ]
     },
     "metadata": {},
     "output_type": "display_data"
    }
   ],
   "source": [
    "plot_history(history)"
   ]
  },
  {
   "cell_type": "markdown",
   "id": "a2a6df96",
   "metadata": {
    "papermill": {
     "duration": 0.434529,
     "end_time": "2021-10-21T21:23:20.045633",
     "exception": false,
     "start_time": "2021-10-21T21:23:19.611104",
     "status": "completed"
    },
    "tags": []
   },
   "source": [
    "## Inference"
   ]
  },
  {
   "cell_type": "code",
   "execution_count": 20,
   "id": "08dd67c1",
   "metadata": {
    "execution": {
     "iopub.execute_input": "2021-10-21T21:23:20.924387Z",
     "iopub.status.busy": "2021-10-21T21:23:20.923472Z",
     "iopub.status.idle": "2021-10-21T21:23:22.354425Z",
     "shell.execute_reply": "2021-10-21T21:23:22.353945Z",
     "shell.execute_reply.started": "2021-10-21T18:58:36.001356Z"
    },
    "papermill": {
     "duration": 1.870362,
     "end_time": "2021-10-21T21:23:22.354552",
     "exception": false,
     "start_time": "2021-10-21T21:23:20.484190",
     "status": "completed"
    },
    "tags": []
   },
   "outputs": [],
   "source": [
    "# test data에서 pularity score 예측\n",
    "data_test[TARGET_NAME] = image_model.predict(\n",
    "    test_ds, use_multiprocessing=True, workers=os.cpu_count())"
   ]
  },
  {
   "cell_type": "code",
   "execution_count": 21,
   "id": "dee0659e",
   "metadata": {
    "execution": {
     "iopub.execute_input": "2021-10-21T21:23:23.244211Z",
     "iopub.status.busy": "2021-10-21T21:23:23.243276Z",
     "iopub.status.idle": "2021-10-21T21:23:23.255398Z",
     "shell.execute_reply": "2021-10-21T21:23:23.254909Z",
     "shell.execute_reply.started": "2021-10-21T18:58:37.699407Z"
    },
    "papermill": {
     "duration": 0.461412,
     "end_time": "2021-10-21T21:23:23.255543",
     "exception": false,
     "start_time": "2021-10-21T21:23:22.794131",
     "status": "completed"
    },
    "tags": []
   },
   "outputs": [
    {
     "data": {
      "text/html": [
       "<div>\n",
       "<style scoped>\n",
       "    .dataframe tbody tr th:only-of-type {\n",
       "        vertical-align: middle;\n",
       "    }\n",
       "\n",
       "    .dataframe tbody tr th {\n",
       "        vertical-align: top;\n",
       "    }\n",
       "\n",
       "    .dataframe thead th {\n",
       "        text-align: right;\n",
       "    }\n",
       "</style>\n",
       "<table border=\"1\" class=\"dataframe\">\n",
       "  <thead>\n",
       "    <tr style=\"text-align: right;\">\n",
       "      <th></th>\n",
       "      <th>Id</th>\n",
       "      <th>Pawpularity</th>\n",
       "    </tr>\n",
       "  </thead>\n",
       "  <tbody>\n",
       "    <tr>\n",
       "      <th>0</th>\n",
       "      <td>4128bae22183829d2b5fea10effdb0c3</td>\n",
       "      <td>53.1368</td>\n",
       "    </tr>\n",
       "    <tr>\n",
       "      <th>1</th>\n",
       "      <td>43a2262d7738e3d420d453815151079e</td>\n",
       "      <td>53.7746</td>\n",
       "    </tr>\n",
       "    <tr>\n",
       "      <th>2</th>\n",
       "      <td>4e429cead1848a298432a0acad014c9d</td>\n",
       "      <td>52.9461</td>\n",
       "    </tr>\n",
       "    <tr>\n",
       "      <th>3</th>\n",
       "      <td>80bc3ccafcc51b66303c2c263aa38486</td>\n",
       "      <td>52.3971</td>\n",
       "    </tr>\n",
       "    <tr>\n",
       "      <th>4</th>\n",
       "      <td>8f49844c382931444e68dffbe20228f4</td>\n",
       "      <td>48.9280</td>\n",
       "    </tr>\n",
       "  </tbody>\n",
       "</table>\n",
       "</div>"
      ],
      "text/plain": [
       "                                 Id  Pawpularity\n",
       "0  4128bae22183829d2b5fea10effdb0c3      53.1368\n",
       "1  43a2262d7738e3d420d453815151079e      53.7746\n",
       "2  4e429cead1848a298432a0acad014c9d      52.9461\n",
       "3  80bc3ccafcc51b66303c2c263aa38486      52.3971\n",
       "4  8f49844c382931444e68dffbe20228f4      48.9280"
      ]
     },
     "execution_count": 21,
     "metadata": {},
     "output_type": "execute_result"
    }
   ],
   "source": [
    "# submission file 제출\n",
    "data_test[['Id', TARGET_NAME]].to_csv('submission.csv', index=False)\n",
    "data_test[['Id', TARGET_NAME]].head()"
   ]
  }
 ],
 "metadata": {
  "kernelspec": {
   "display_name": "Python 3",
   "language": "python",
   "name": "python3"
  },
  "language_info": {
   "codemirror_mode": {
    "name": "ipython",
    "version": 3
   },
   "file_extension": ".py",
   "mimetype": "text/x-python",
   "name": "python",
   "nbconvert_exporter": "python",
   "pygments_lexer": "ipython3",
   "version": "3.7.10"
  },
  "papermill": {
   "default_parameters": {},
   "duration": 473.856478,
   "end_time": "2021-10-21T21:23:28.104299",
   "environment_variables": {},
   "exception": null,
   "input_path": "__notebook__.ipynb",
   "output_path": "__notebook__.ipynb",
   "parameters": {},
   "start_time": "2021-10-21T21:15:34.247821",
   "version": "2.3.3"
  }
 },
 "nbformat": 4,
 "nbformat_minor": 5
}
